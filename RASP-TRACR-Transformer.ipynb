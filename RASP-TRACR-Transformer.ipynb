{
  "nbformat": 4,
  "nbformat_minor": 0,
  "metadata": {
    "colab": {
      "provenance": []
    },
    "kernelspec": {
      "name": "python3",
      "display_name": "Python 3"
    },
    "language_info": {
      "name": "python"
    },
    "accelerator": "GPU",
    "gpuClass": "standard"
  },
  "cells": [
    {
      "cell_type": "code",
      "execution_count": null,
      "metadata": {
        "colab": {
          "base_uri": "https://localhost:8080/"
        },
        "id": "hx1TRkmT38z9",
        "outputId": "27bcf633-5607-468a-8ceb-031611e5d0d5"
      },
      "outputs": [
        {
          "output_type": "stream",
          "name": "stdout",
          "text": [
            "Cloning into 'tracr'...\n",
            "remote: Enumerating objects: 179, done.\u001b[K\n",
            "remote: Counting objects: 100% (70/70), done.\u001b[K\n",
            "remote: Compressing objects: 100% (49/49), done.\u001b[K\n",
            "remote: Total 179 (delta 38), reused 37 (delta 21), pack-reused 109\u001b[K\n",
            "Receiving objects: 100% (179/179), 133.96 KiB | 2.23 MiB/s, done.\n",
            "Resolving deltas: 100% (89/89), done.\n"
          ]
        }
      ],
      "source": [
        "# We install the tracr library\n",
        "\n",
        "!git clone https://github.com/deepmind/tracr\n",
        "%cd tracr\n",
        "!pip install .\n",
        "\n",
        "from tracr.rasp import rasp"
      ]
    },
    {
      "cell_type": "code",
      "source": [
        "# I'm not completely sure what this function does\n",
        "\n",
        "def make_length():\n",
        "  all_true_selector = rasp.Select(rasp.tokens, rasp.tokens, rasp.Comparison.TRUE)\n",
        "  return rasp.SelectorWidth(all_true_selector)\n"
      ],
      "metadata": {
        "id": "9XRgApBR5m0W"
      },
      "execution_count": null,
      "outputs": []
    },
    {
      "cell_type": "code",
      "source": [
        "# We make the 'reverse string' function in RASP\n",
        "\n",
        "length = make_length() \n",
        "opp_index = length - rasp.indices - 1\n",
        "flip = rasp.Select(rasp.indices, opp_index, rasp.Comparison.EQ)\n",
        "reverse = rasp.Aggregate(flip, rasp.tokens)\n"
      ],
      "metadata": {
        "colab": {
          "base_uri": "https://localhost:8080/"
        },
        "id": "iJaFyHQ45ZDi",
        "outputId": "412af7fd-3244-4995-8edb-45cab18a13d6"
      },
      "execution_count": null,
      "outputs": [
        {
          "output_type": "stream",
          "name": "stderr",
          "text": [
            "WARNING:absl:Creating a SequenceMap with both inputs being the same SOp is discouraged. You should use a Map instead.\n"
          ]
        }
      ]
    },
    {
      "cell_type": "code",
      "source": [
        "# We compile the RASP program to a Transformer. We need a Beginning of String (BOS) token.\n",
        "\n",
        "from tracr.compiler import compiling\n",
        "bos = \"BOS\"\n",
        "model = compiling.compile_rasp_to_model(\n",
        "    reverse,\n",
        "    vocab={1, 2, 3},\n",
        "    max_seq_len=3,\n",
        "    compiler_bos=bos,\n",
        ")"
      ],
      "metadata": {
        "id": "REgkFweZ5jEg"
      },
      "execution_count": null,
      "outputs": []
    },
    {
      "cell_type": "code",
      "source": [
        "# Let's see if our transformer works..\n",
        "\n",
        "out = model.apply([bos, 1, 2, 3])\n",
        "print(out.decoded)\n",
        "\n",
        "out = model.apply([bos, 2, 2, 3])\n",
        "print(out.decoded)"
      ],
      "metadata": {
        "colab": {
          "base_uri": "https://localhost:8080/"
        },
        "id": "YO9cACqnGgKJ",
        "outputId": "56024257-33c3-4c60-899d-dc3330827e04"
      },
      "execution_count": null,
      "outputs": [
        {
          "output_type": "stream",
          "name": "stdout",
          "text": [
            "['BOS', 3, 2, 1]\n",
            "['BOS', 3, 2, 2]\n"
          ]
        }
      ]
    },
    {
      "cell_type": "code",
      "source": [
        "# Now we can inspect the weights of our Transformer!\n",
        "\n",
        "from pprint import pprint\n",
        "import matplotlib.pyplot as plt\n",
        "\n",
        "fig, ax = plt.subplots(1, 3)\n",
        "fig.suptitle(\"Attention Key Weights\")\n",
        "ax[0].matshow(model.params['transformer/layer_0/attn/key']['w'])\n",
        "ax[1].matshow(model.params['transformer/layer_1/attn/key']['w'])\n",
        "ax[2].matshow(model.params['transformer/layer_2/attn/key']['w'])\n",
        "plt.show()\n",
        "\n",
        "fig, ax = plt.subplots(1, 3)\n",
        "fig.suptitle(\"Attention Query Weights\")\n",
        "ax[0].matshow(model.params['transformer/layer_0/attn/query']['w'])\n",
        "ax[1].matshow(model.params['transformer/layer_1/attn/query']['w'])\n",
        "ax[2].matshow(model.params['transformer/layer_2/attn/query']['w'])\n",
        "plt.show()\n",
        "\n",
        "\n",
        "fig, ax = plt.subplots(1, 3)\n",
        "fig.suptitle(\"Attention Value Weights\")\n",
        "ax[0].matshow(model.params['transformer/layer_0/attn/value']['w'])\n",
        "ax[1].matshow(model.params['transformer/layer_1/attn/value']['w'])\n",
        "ax[2].matshow(model.params['transformer/layer_2/attn/value']['w'])\n",
        "plt.show()\n",
        "\n",
        "\n",
        "fig, ax = plt.subplots(1, 3)\n",
        "fig.suptitle(\"MLP Layer1 Weights\")\n",
        "ax[0].matshow(model.params['transformer/layer_0/mlp/linear_1']['w'])\n",
        "ax[1].matshow(model.params['transformer/layer_1/mlp/linear_1']['w'])\n",
        "ax[2].matshow(model.params['transformer/layer_2/mlp/linear_1']['w'])\n",
        "plt.show()\n",
        "\n",
        "\n",
        "fig, ax = plt.subplots(1, 3)\n",
        "fig.suptitle(\"MLP Layer2 Weigths\")\n",
        "ax[0].matshow(model.params['transformer/layer_0/mlp/linear_2']['w'])\n",
        "ax[1].matshow(model.params['transformer/layer_1/mlp/linear_2']['w'])\n",
        "ax[2].matshow(model.params['transformer/layer_2/mlp/linear_2']['w'])\n",
        "plt.show()\n"
      ],
      "metadata": {
        "colab": {
          "base_uri": "https://localhost:8080/",
          "height": 1000
        },
        "id": "7JRQLR9B5vBF",
        "outputId": "6b2df729-4b16-4310-a62e-3d73c4589a0e"
      },
      "execution_count": null,
      "outputs": [
        {
          "output_type": "display_data",
          "data": {
            "text/plain": [
              "<Figure size 432x288 with 3 Axes>"
            ],
            "image/png": "[encoded data removed]"
          },
          "metadata": {
            "needs_background": "light"
          }
        },
        {
          "output_type": "display_data",
          "data": {
            "text/plain": [
              "<Figure size 432x288 with 3 Axes>"
            ],
            "image/png": "[encoded data removed]"
          },
          "metadata": {
            "needs_background": "light"
          }
        },
        {
          "output_type": "display_data",
          "data": {
            "text/plain": [
              "<Figure size 432x288 with 3 Axes>"
            ],
            "image/png": "[encoded data removed]"
          },
          "metadata": {
            "needs_background": "light"
          }
        },
        {
          "output_type": "display_data",
          "data": {
            "text/plain": [
              "<Figure size 432x288 with 3 Axes>"
            ],
            "image/png": "[encoded data removed]"
          },
          "metadata": {
            "needs_background": "light"
          }
        },
        {
          "output_type": "display_data",
          "data": {
            "text/plain": [
              "<Figure size 432x288 with 3 Axes>"
            ],
            "image/png": "[encoded data removed]"
          },
          "metadata": {
            "needs_background": "light"
          }
        }
      ]
    },
    {
      "cell_type": "code",
      "source": [],
      "metadata": {
        "id": "HkrRkpCo6aM3"
      },
      "execution_count": null,
      "outputs": []
    }
  ]
}